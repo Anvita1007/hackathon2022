{
  "nbformat": 4,
  "nbformat_minor": 0,
  "metadata": {
    "colab": {
      "provenance": [],
      "collapsed_sections": []
    },
    "kernelspec": {
      "name": "python3",
      "display_name": "Python 3"
    },
    "language_info": {
      "name": "python"
    }
  },
  "cells": [
    {
      "cell_type": "markdown",
      "source": [
        "# Freshers Prompt\n",
        "\n",
        "Instructions:\n",
        "1.   You need to make a copy of this colab notebook, solve the sections and submit its link (access to view should be given to all).\n",
        "2.   Kindly make sure you add proper comments and text explanation for each section. The explanation will be given weightage during evaluation.\n",
        "3.   Plagiarism of any kind will not be tolerated and will lead to disqualification."
      ],
      "metadata": {
        "id": "5Ji9iiejQabl"
      }
    },
    {
      "cell_type": "markdown",
      "source": [
        "Bob wants to send his friend Alice a message in the form of a string of bits, *s*. In order to make it harder for an eavesdropper to read *s*, Bob does the following:\n",
        "\n",
        "*   Defines a function $ f: \\{0,1\\}^n → \\{0,1\\}, f(x) = ∑ s_ix_i \\text{ } mod \\text{ } 2$\n",
        "*   Creates a quantum circuit $ U_f$ that takes the state $|x⟩_n|y⟩_1$ to $|x⟩_n|y \\oplus f(x)⟩_1$\n",
        "*   Bob encapsulates $U_f$ into a black box and delivers it to Alice. Alice is able to query the black box with a quantum state and get the output, but she cannot look at the circuit itself.\n",
        "\n",
        "\n",
        "\n"
      ],
      "metadata": {
        "id": "86oOmIcdCIax"
      }
    },
    {
      "cell_type": "markdown",
      "source": [
        "# 1.1 - Compute the classical function *f*"
      ],
      "metadata": {
        "id": "EFLGlIzQJas_"
      }
    },
    {
      "cell_type": "code",
      "source": [
        "import numpy as np"
      ],
      "metadata": {
        "id": "xTcum_gHKJeu"
      },
      "execution_count": null,
      "outputs": []
    },
    {
      "cell_type": "code",
      "source": [
        "#Generate a random 8-bit string s\n",
        "n = 8\n",
        "s = ''\n",
        "for i in range(n):\n",
        "  s+= str(np.random.randint(0,2))\n",
        "print('Our string to be hidden is',s)"
      ],
      "metadata": {
        "id": "0TEHD6_TJ-uz"
      },
      "execution_count": null,
      "outputs": []
    },
    {
      "cell_type": "code",
      "source": [
        "#Compute s.x mod 2\n",
        "def f(x):\n",
        "  #Enter your code here\n",
        "\n",
        "  return "
      ],
      "metadata": {
        "id": "DIG-ZDutJmsR"
      },
      "execution_count": null,
      "outputs": []
    },
    {
      "cell_type": "markdown",
      "source": [
        "# 1.2 - Determine *s* by querying the classical function *f*\n"
      ],
      "metadata": {
        "id": "oZi6T7oEJ2Fg"
      }
    },
    {
      "cell_type": "code",
      "source": [
        "#Find s from the classical function f\n",
        "def get_s_classical(f):\n",
        "  #Enter your code here\n",
        "\n",
        "  return"
      ],
      "metadata": {
        "id": "rupEOJzQLu-u"
      },
      "execution_count": null,
      "outputs": []
    },
    {
      "cell_type": "code",
      "source": [
        "s_class = get_s_classical(f)\n",
        "print('The string determined classically is',s_class)"
      ],
      "metadata": {
        "id": "Qz_HElQfMHSX"
      },
      "execution_count": null,
      "outputs": []
    },
    {
      "cell_type": "markdown",
      "source": [
        "#2.1 - Construct $U_f$\n"
      ],
      "metadata": {
        "id": "TKOER4GMG2hc"
      }
    },
    {
      "cell_type": "code",
      "execution_count": null,
      "metadata": {
        "id": "WaxILG_2B_Pq"
      },
      "outputs": [],
      "source": [
        "#First, let's install qiskit\n",
        "!pip install qiskit"
      ]
    },
    {
      "cell_type": "code",
      "source": [
        "from qiskit import QuantumCircuit"
      ],
      "metadata": {
        "id": "60XtUQLzHQW0"
      },
      "execution_count": null,
      "outputs": []
    },
    {
      "cell_type": "code",
      "source": [
        "#Construct Bob's quantum circuit for some n-bit string s\n",
        "def construct_bob_circuit(s):\n",
        "  qc = QuantumCircuit(n+1)\n",
        "  #Enter your code here\n",
        "\n",
        "  return qc\n"
      ],
      "metadata": {
        "id": "T_oGFMIlHdZQ"
      },
      "execution_count": null,
      "outputs": []
    },
    {
      "cell_type": "markdown",
      "source": [
        "# 2.2 - Getting *s* from the black box"
      ],
      "metadata": {
        "id": "hOxdVDN7IDeI"
      }
    },
    {
      "cell_type": "code",
      "source": [
        "#Implement the quantum algorithm that uses Bob's black box to determine the hidden string *s*\n",
        "def get_s_quantum(qc_bob):\n",
        "  #Enter your code here\n",
        "\n",
        "  return"
      ],
      "metadata": {
        "id": "vca_c1yvH21K"
      },
      "execution_count": null,
      "outputs": []
    },
    {
      "cell_type": "code",
      "source": [
        "qc_bob = construct_bob_circuit(s)\n",
        "s_quant = get_s_quantum(qc_bob)\n",
        "print('The string determined using the quantum algorithm is',s_quant)"
      ],
      "metadata": {
        "id": "Dzz_T42DMrpz"
      },
      "execution_count": null,
      "outputs": []
    },
    {
      "cell_type": "markdown",
      "source": [
        "# 3\n",
        "3.1 - How many times did you query the classical function *f* to determine *s*?\n",
        "\n",
        "Ans - \n",
        "\n",
        "3.2 - How many queries to the quantum black box were needed to determine *s*?\n",
        "\n",
        "Ans - \n"
      ],
      "metadata": {
        "id": "JMUjO_Q4NrlC"
      }
    }
  ]
}